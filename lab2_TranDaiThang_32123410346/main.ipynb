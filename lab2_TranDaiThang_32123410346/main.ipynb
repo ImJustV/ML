{
 "cells": [
  {
   "cell_type": "markdown",
   "id": "222991b2-bb46-493c-9140-27c29ba81247",
   "metadata": {},
   "source": [
    "# Thuc Hanh Tri Tue Nhan Tao Buoi1"
   ]
  },
  {
   "cell_type": "markdown",
   "id": "5a2b7fbb-1fc1-4937-9aa0-2c6904d3d6d4",
   "metadata": {},
   "source": [
    "## Noi Dung Thuc Hanh"
   ]
  },
  {
   "cell_type": "markdown",
   "id": "11071d60-e139-43b3-ab30-5ac4b0394c43",
   "metadata": {},
   "source": [
    "### In chu ra man hinh"
   ]
  },
  {
   "cell_type": "code",
   "execution_count": 2,
   "id": "e8158762-7951-4bcd-b9ec-08a63eca1ef7",
   "metadata": {},
   "outputs": [
    {
     "name": "stdout",
     "output_type": "stream",
     "text": [
      "Hello, Python world!\n"
     ]
    }
   ],
   "source": [
    "print(\"Hello, Python world!\")"
   ]
  },
  {
   "cell_type": "markdown",
   "id": "2e8397e9-97f7-4456-824a-b7c9419aeb67",
   "metadata": {},
   "source": [
    "### Chay tap tin python"
   ]
  },
  {
   "cell_type": "code",
   "execution_count": 4,
   "id": "b55b2b92-dff8-4ff8-bb76-808259dcb8a5",
   "metadata": {},
   "outputs": [
    {
     "name": "stdout",
     "output_type": "stream",
     "text": [
      "Hello, Python world!\n"
     ]
    }
   ],
   "source": [
    "!python ex0_hello_world.py"
   ]
  },
  {
   "cell_type": "code",
   "execution_count": 2,
   "id": "0356d919-1e4c-4af9-828c-403241cabcd8",
   "metadata": {},
   "outputs": [
    {
     "name": "stdout",
     "output_type": "stream",
     "text": [
      "Hello, Python world!\n"
     ]
    }
   ],
   "source": [
    "%run ex0_hello_world.py"
   ]
  },
  {
   "cell_type": "markdown",
   "id": "813828d3-b3a8-4f53-9546-bbbebcbd3fae",
   "metadata": {},
   "source": [
    "### Tinh toan co ban"
   ]
  },
  {
   "cell_type": "code",
   "execution_count": 3,
   "id": "7b903050-b91a-4d48-8018-73727f1f41dc",
   "metadata": {},
   "outputs": [
    {
     "name": "stdout",
     "output_type": "stream",
     "text": [
      "calculator basics\n"
     ]
    },
    {
     "name": "stdin",
     "output_type": "stream",
     "text": [
      "Moi ban nhap vao a, b (co khoang cach):  1 3\n"
     ]
    },
    {
     "name": "stdout",
     "output_type": "stream",
     "text": [
      "c = 1 + 3 = 4\n"
     ]
    }
   ],
   "source": [
    "%run ex1_calc.py"
   ]
  },
  {
   "cell_type": "code",
   "execution_count": 4,
   "id": "62b02c94-9923-4f95-ae22-baccb9be0db5",
   "metadata": {},
   "outputs": [
    {
     "name": "stdout",
     "output_type": "stream",
     "text": [
      "calculator basics\n"
     ]
    },
    {
     "name": "stdin",
     "output_type": "stream",
     "text": [
      "Moi ban nhap vao a, b (co khoang cach):  1 3\n"
     ]
    },
    {
     "name": "stdout",
     "output_type": "stream",
     "text": [
      "c = 1 + 3 = 4\n"
     ]
    }
   ],
   "source": [
    "print (\"calculator basics\")\n",
    "while True:\n",
    "    try:\n",
    "        a,b = map(int,input(\"Moi ban nhap vao a, b (co khoang cach): \").split())\n",
    "        break\n",
    "    except ValueError:\n",
    "        print(\"a,b nhap vao khong hop le\")\n",
    "print(f\"c = {a} + {b} = {a + b}\")"
   ]
  },
  {
   "cell_type": "markdown",
   "id": "065fd56f-4abc-404a-92ff-7310284cd361",
   "metadata": {},
   "source": [
    "# Ket thuc"
   ]
  }
 ],
 "metadata": {
  "kernelspec": {
   "display_name": "Python 3 (ipykernel)",
   "language": "python",
   "name": "python3"
  },
  "language_info": {
   "codemirror_mode": {
    "name": "ipython",
    "version": 3
   },
   "file_extension": ".py",
   "mimetype": "text/x-python",
   "name": "python",
   "nbconvert_exporter": "python",
   "pygments_lexer": "ipython3",
   "version": "3.11.0rc2"
  }
 },
 "nbformat": 4,
 "nbformat_minor": 5
}
